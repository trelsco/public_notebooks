{
 "metadata": {
  "name": "",
  "signature": "sha256:d6e5a37d4d421a005d0ad3beef5cf25a14ea49adcf9954c6c5f2f5ea01c36876"
 },
 "nbformat": 3,
 "nbformat_minor": 0,
 "worksheets": [
  {
   "cells": [
    {
     "cell_type": "markdown",
     "metadata": {},
     "source": [
      "# Simplex Analysis"
     ]
    },
    {
     "cell_type": "code",
     "collapsed": false,
     "input": [
      "import numpy as np\n",
      "import pandas as pd\n",
      "from matplotlib import pyplot\n",
      "import pylab\n",
      "from mpl_toolkits.mplot3d import Axes3D\n",
      "%pylab inline"
     ],
     "language": "python",
     "metadata": {},
     "outputs": [
      {
       "output_type": "stream",
       "stream": "stdout",
       "text": [
        "Populating the interactive namespace from numpy and matplotlib\n"
       ]
      },
      {
       "output_type": "stream",
       "stream": "stderr",
       "text": [
        "WARNING: pylab import has clobbered these variables: ['pylab']\n",
        "`%matplotlib` prevents importing * from pylab and numpy\n"
       ]
      }
     ],
     "prompt_number": 14
    },
    {
     "cell_type": "code",
     "collapsed": false,
     "input": [
      "def simplex_projection(v, z=1):\n",
      "    v = v.values\n",
      "    p = len(v)\n",
      "    rho = p\n",
      "    w = np.zeros(len(v))\n",
      "    u, idx = np.sort(v)[::-1], np.argsort(v)[::-1]\n",
      "    for j in range(p):\n",
      "        if u[j] - (u[:j + 1].sum() - z) / (j + 1) <= 0:\n",
      "            rho = j - 1\n",
      "            break\n",
      "\n",
      "    theta = (u[:rho + 1].sum() - z) / (rho + 1)\n",
      "    w[idx[:rho + 1]] = v[idx[:rho + 1]] - theta\n",
      "    return w"
     ],
     "language": "python",
     "metadata": {},
     "outputs": [],
     "prompt_number": 3
    },
    {
     "cell_type": "code",
     "collapsed": false,
     "input": [
      "z=1\n",
      "weights = (1.2, 0.2, 0.6)\n",
      "old_weight = pd.Series(weights)\n",
      "new_weight = simplex_projection(old_weight, z)\n",
      "print old_weight.values\n",
      "print new_weight"
     ],
     "language": "python",
     "metadata": {},
     "outputs": [
      {
       "output_type": "stream",
       "stream": "stdout",
       "text": [
        "[ 1.2  0.2  0.6]\n",
        "[ 0.8  0.   0.2]\n"
       ]
      }
     ],
     "prompt_number": 4
    },
    {
     "cell_type": "code",
     "collapsed": false,
     "input": [
      "X = np.random.uniform(low=-1.0, high=1.0, size=100)\n",
      "Y = np.random.uniform(low=-1.0, high=1.0, size=100)\n",
      "Z = np.random.uniform(low=-1.0, high=1.0, size=100)\n",
      "my_points = pd.DataFrame(zip(X, Y, Z), columns=['X', 'Y', 'Z'])\n",
      "my_points.head()"
     ],
     "language": "python",
     "metadata": {},
     "outputs": [
      {
       "html": [
        "<div style=\"max-height:1000px;max-width:1500px;overflow:auto;\">\n",
        "<table border=\"1\" class=\"dataframe\">\n",
        "  <thead>\n",
        "    <tr style=\"text-align: right;\">\n",
        "      <th></th>\n",
        "      <th>X</th>\n",
        "      <th>Y</th>\n",
        "      <th>Z</th>\n",
        "    </tr>\n",
        "  </thead>\n",
        "  <tbody>\n",
        "    <tr>\n",
        "      <th>0</th>\n",
        "      <td>-0.721101</td>\n",
        "      <td> 0.104080</td>\n",
        "      <td> 0.171492</td>\n",
        "    </tr>\n",
        "    <tr>\n",
        "      <th>1</th>\n",
        "      <td> 0.529175</td>\n",
        "      <td> 0.860288</td>\n",
        "      <td>-0.192965</td>\n",
        "    </tr>\n",
        "    <tr>\n",
        "      <th>2</th>\n",
        "      <td>-0.097679</td>\n",
        "      <td>-0.963301</td>\n",
        "      <td> 0.700109</td>\n",
        "    </tr>\n",
        "    <tr>\n",
        "      <th>3</th>\n",
        "      <td> 0.525447</td>\n",
        "      <td> 0.504311</td>\n",
        "      <td>-0.921402</td>\n",
        "    </tr>\n",
        "    <tr>\n",
        "      <th>4</th>\n",
        "      <td> 0.791425</td>\n",
        "      <td>-0.598160</td>\n",
        "      <td> 0.101588</td>\n",
        "    </tr>\n",
        "  </tbody>\n",
        "</table>\n",
        "</div>"
       ],
       "metadata": {},
       "output_type": "pyout",
       "prompt_number": 5,
       "text": [
        "          X         Y         Z\n",
        "0 -0.721101  0.104080  0.171492\n",
        "1  0.529175  0.860288 -0.192965\n",
        "2 -0.097679 -0.963301  0.700109\n",
        "3  0.525447  0.504311 -0.921402\n",
        "4  0.791425 -0.598160  0.101588"
       ]
      }
     ],
     "prompt_number": 5
    },
    {
     "cell_type": "code",
     "collapsed": false,
     "input": [
      "new = my_points.apply(simplex_projection, axis=1)\n",
      "new.head()"
     ],
     "language": "python",
     "metadata": {},
     "outputs": [
      {
       "html": [
        "<div style=\"max-height:1000px;max-width:1500px;overflow:auto;\">\n",
        "<table border=\"1\" class=\"dataframe\">\n",
        "  <thead>\n",
        "    <tr style=\"text-align: right;\">\n",
        "      <th></th>\n",
        "      <th>X</th>\n",
        "      <th>Y</th>\n",
        "      <th>Z</th>\n",
        "    </tr>\n",
        "  </thead>\n",
        "  <tbody>\n",
        "    <tr>\n",
        "      <th>0</th>\n",
        "      <td> 0.000000</td>\n",
        "      <td> 0.466294</td>\n",
        "      <td> 0.533706</td>\n",
        "    </tr>\n",
        "    <tr>\n",
        "      <th>1</th>\n",
        "      <td> 0.334443</td>\n",
        "      <td> 0.665557</td>\n",
        "      <td> 0.000000</td>\n",
        "    </tr>\n",
        "    <tr>\n",
        "      <th>2</th>\n",
        "      <td> 0.101106</td>\n",
        "      <td> 0.000000</td>\n",
        "      <td> 0.898894</td>\n",
        "    </tr>\n",
        "    <tr>\n",
        "      <th>3</th>\n",
        "      <td> 0.510568</td>\n",
        "      <td> 0.489432</td>\n",
        "      <td> 0.000000</td>\n",
        "    </tr>\n",
        "    <tr>\n",
        "      <th>4</th>\n",
        "      <td> 0.844918</td>\n",
        "      <td> 0.000000</td>\n",
        "      <td> 0.155082</td>\n",
        "    </tr>\n",
        "  </tbody>\n",
        "</table>\n",
        "</div>"
       ],
       "metadata": {},
       "output_type": "pyout",
       "prompt_number": 6,
       "text": [
        "          X         Y         Z\n",
        "0  0.000000  0.466294  0.533706\n",
        "1  0.334443  0.665557  0.000000\n",
        "2  0.101106  0.000000  0.898894\n",
        "3  0.510568  0.489432  0.000000\n",
        "4  0.844918  0.000000  0.155082"
       ]
      }
     ],
     "prompt_number": 6
    },
    {
     "cell_type": "code",
     "collapsed": false,
     "input": [
      "new.describe()"
     ],
     "language": "python",
     "metadata": {},
     "outputs": [
      {
       "html": [
        "<div style=\"max-height:1000px;max-width:1500px;overflow:auto;\">\n",
        "<table border=\"1\" class=\"dataframe\">\n",
        "  <thead>\n",
        "    <tr style=\"text-align: right;\">\n",
        "      <th></th>\n",
        "      <th>X</th>\n",
        "      <th>Y</th>\n",
        "      <th>Z</th>\n",
        "    </tr>\n",
        "  </thead>\n",
        "  <tbody>\n",
        "    <tr>\n",
        "      <th>count</th>\n",
        "      <td> 100.000000</td>\n",
        "      <td> 100.000000</td>\n",
        "      <td> 100.000000</td>\n",
        "    </tr>\n",
        "    <tr>\n",
        "      <th>mean</th>\n",
        "      <td>   0.279423</td>\n",
        "      <td>   0.343481</td>\n",
        "      <td>   0.315306</td>\n",
        "    </tr>\n",
        "    <tr>\n",
        "      <th>std</th>\n",
        "      <td>   0.300403</td>\n",
        "      <td>   0.353484</td>\n",
        "      <td>   0.318823</td>\n",
        "    </tr>\n",
        "    <tr>\n",
        "      <th>min</th>\n",
        "      <td>  -0.137557</td>\n",
        "      <td>  -0.217229</td>\n",
        "      <td>  -0.074946</td>\n",
        "    </tr>\n",
        "    <tr>\n",
        "      <th>25%</th>\n",
        "      <td>   0.000000</td>\n",
        "      <td>   0.000000</td>\n",
        "      <td>   0.000000</td>\n",
        "    </tr>\n",
        "    <tr>\n",
        "      <th>50%</th>\n",
        "      <td>   0.222616</td>\n",
        "      <td>   0.297613</td>\n",
        "      <td>   0.265281</td>\n",
        "    </tr>\n",
        "    <tr>\n",
        "      <th>75%</th>\n",
        "      <td>   0.512321</td>\n",
        "      <td>   0.579255</td>\n",
        "      <td>   0.536834</td>\n",
        "    </tr>\n",
        "    <tr>\n",
        "      <th>max</th>\n",
        "      <td>   1.000000</td>\n",
        "      <td>   1.000000</td>\n",
        "      <td>   1.000000</td>\n",
        "    </tr>\n",
        "  </tbody>\n",
        "</table>\n",
        "</div>"
       ],
       "metadata": {},
       "output_type": "pyout",
       "prompt_number": 7,
       "text": [
        "                X           Y           Z\n",
        "count  100.000000  100.000000  100.000000\n",
        "mean     0.279423    0.343481    0.315306\n",
        "std      0.300403    0.353484    0.318823\n",
        "min     -0.137557   -0.217229   -0.074946\n",
        "25%      0.000000    0.000000    0.000000\n",
        "50%      0.222616    0.297613    0.265281\n",
        "75%      0.512321    0.579255    0.536834\n",
        "max      1.000000    1.000000    1.000000"
       ]
      }
     ],
     "prompt_number": 7
    },
    {
     "cell_type": "code",
     "collapsed": false,
     "input": [
      "dummy, n_cols = np.shape(new)\n",
      "new = new - 1.0 / n_cols\n",
      "new.head()"
     ],
     "language": "python",
     "metadata": {},
     "outputs": [
      {
       "html": [
        "<div style=\"max-height:1000px;max-width:1500px;overflow:auto;\">\n",
        "<table border=\"1\" class=\"dataframe\">\n",
        "  <thead>\n",
        "    <tr style=\"text-align: right;\">\n",
        "      <th></th>\n",
        "      <th>X</th>\n",
        "      <th>Y</th>\n",
        "      <th>Z</th>\n",
        "    </tr>\n",
        "  </thead>\n",
        "  <tbody>\n",
        "    <tr>\n",
        "      <th>0</th>\n",
        "      <td>-0.333333</td>\n",
        "      <td> 0.132961</td>\n",
        "      <td> 0.200373</td>\n",
        "    </tr>\n",
        "    <tr>\n",
        "      <th>1</th>\n",
        "      <td> 0.001110</td>\n",
        "      <td> 0.332223</td>\n",
        "      <td>-0.333333</td>\n",
        "    </tr>\n",
        "    <tr>\n",
        "      <th>2</th>\n",
        "      <td>-0.232227</td>\n",
        "      <td>-0.333333</td>\n",
        "      <td> 0.565561</td>\n",
        "    </tr>\n",
        "    <tr>\n",
        "      <th>3</th>\n",
        "      <td> 0.177235</td>\n",
        "      <td> 0.156099</td>\n",
        "      <td>-0.333333</td>\n",
        "    </tr>\n",
        "    <tr>\n",
        "      <th>4</th>\n",
        "      <td> 0.511585</td>\n",
        "      <td>-0.333333</td>\n",
        "      <td>-0.178252</td>\n",
        "    </tr>\n",
        "  </tbody>\n",
        "</table>\n",
        "</div>"
       ],
       "metadata": {},
       "output_type": "pyout",
       "prompt_number": 9,
       "text": [
        "          X         Y         Z\n",
        "0 -0.333333  0.132961  0.200373\n",
        "1  0.001110  0.332223 -0.333333\n",
        "2 -0.232227 -0.333333  0.565561\n",
        "3  0.177235  0.156099 -0.333333\n",
        "4  0.511585 -0.333333 -0.178252"
       ]
      }
     ],
     "prompt_number": 9
    },
    {
     "cell_type": "code",
     "collapsed": false,
     "input": [
      "new.describe()"
     ],
     "language": "python",
     "metadata": {},
     "outputs": [
      {
       "html": [
        "<div style=\"max-height:1000px;max-width:1500px;overflow:auto;\">\n",
        "<table border=\"1\" class=\"dataframe\">\n",
        "  <thead>\n",
        "    <tr style=\"text-align: right;\">\n",
        "      <th></th>\n",
        "      <th>X</th>\n",
        "      <th>Y</th>\n",
        "      <th>Z</th>\n",
        "    </tr>\n",
        "  </thead>\n",
        "  <tbody>\n",
        "    <tr>\n",
        "      <th>count</th>\n",
        "      <td> 100.000000</td>\n",
        "      <td> 100.000000</td>\n",
        "      <td> 100.000000</td>\n",
        "    </tr>\n",
        "    <tr>\n",
        "      <th>mean</th>\n",
        "      <td>  -0.053910</td>\n",
        "      <td>   0.010147</td>\n",
        "      <td>  -0.018027</td>\n",
        "    </tr>\n",
        "    <tr>\n",
        "      <th>std</th>\n",
        "      <td>   0.300403</td>\n",
        "      <td>   0.353484</td>\n",
        "      <td>   0.318823</td>\n",
        "    </tr>\n",
        "    <tr>\n",
        "      <th>min</th>\n",
        "      <td>  -0.470890</td>\n",
        "      <td>  -0.550562</td>\n",
        "      <td>  -0.408280</td>\n",
        "    </tr>\n",
        "    <tr>\n",
        "      <th>25%</th>\n",
        "      <td>  -0.333333</td>\n",
        "      <td>  -0.333333</td>\n",
        "      <td>  -0.333333</td>\n",
        "    </tr>\n",
        "    <tr>\n",
        "      <th>50%</th>\n",
        "      <td>  -0.110717</td>\n",
        "      <td>  -0.035720</td>\n",
        "      <td>  -0.068053</td>\n",
        "    </tr>\n",
        "    <tr>\n",
        "      <th>75%</th>\n",
        "      <td>   0.178988</td>\n",
        "      <td>   0.245922</td>\n",
        "      <td>   0.203500</td>\n",
        "    </tr>\n",
        "    <tr>\n",
        "      <th>max</th>\n",
        "      <td>   0.666667</td>\n",
        "      <td>   0.666667</td>\n",
        "      <td>   0.666667</td>\n",
        "    </tr>\n",
        "  </tbody>\n",
        "</table>\n",
        "</div>"
       ],
       "metadata": {},
       "output_type": "pyout",
       "prompt_number": 10,
       "text": [
        "                X           Y           Z\n",
        "count  100.000000  100.000000  100.000000\n",
        "mean    -0.053910    0.010147   -0.018027\n",
        "std      0.300403    0.353484    0.318823\n",
        "min     -0.470890   -0.550562   -0.408280\n",
        "25%     -0.333333   -0.333333   -0.333333\n",
        "50%     -0.110717   -0.035720   -0.068053\n",
        "75%      0.178988    0.245922    0.203500\n",
        "max      0.666667    0.666667    0.666667"
       ]
      }
     ],
     "prompt_number": 10
    },
    {
     "cell_type": "code",
     "collapsed": false,
     "input": [
      "from matplotlib import pyplot\n",
      "import pylab\n",
      "from mpl_toolkits.mplot3d import Axes3D\n",
      "\n",
      "fig = pylab.figure()\n",
      "ax = Axes3D(fig)\n",
      "\n",
      "#ax.scatter(my_points.X, my_points.Y, my_points.Z)\n",
      "ax.scatter(new.X, new.Y, new.Z)\n",
      "pyplot.show()"
     ],
     "language": "python",
     "metadata": {},
     "outputs": [
      {
       "metadata": {},
       "output_type": "display_data",
       "png": "[encoded data removed]",
       "text": [
        "<matplotlib.figure.Figure at 0xc936240>"
       ]
      }
     ],
     "prompt_number": 15
    },
    {
     "cell_type": "code",
     "collapsed": false,
     "input": [
      "new['sum'] = new.X + new.Y + new.Z\n",
      "new['sum']"
     ],
     "language": "python",
     "metadata": {},
     "outputs": [
      {
       "metadata": {},
       "output_type": "pyout",
       "prompt_number": 12,
       "text": [
        "0     5.551115e-17\n",
        "1     5.551115e-17\n",
        "2     1.110223e-16\n",
        "3     5.551115e-17\n",
        "4     0.000000e+00\n",
        "5    -4.688440e-01\n",
        "6     5.551115e-17\n",
        "7     5.551115e-17\n",
        "8     1.110223e-16\n",
        "9     5.551115e-17\n",
        "10    0.000000e+00\n",
        "11    5.551115e-17\n",
        "12    1.110223e-16\n",
        "13    5.551115e-17\n",
        "14   -4.916988e-02\n",
        "...\n",
        "85    1.110223e-16\n",
        "86    5.551115e-17\n",
        "87    5.551115e-17\n",
        "88    5.551115e-17\n",
        "89    1.110223e-16\n",
        "90    1.110223e-16\n",
        "91    5.551115e-17\n",
        "92    0.000000e+00\n",
        "93    5.551115e-17\n",
        "94    5.551115e-17\n",
        "95   -6.918903e-01\n",
        "96    0.000000e+00\n",
        "97    5.551115e-17\n",
        "98    5.551115e-17\n",
        "99   -5.502862e-02\n",
        "Name: sum, Length: 100, dtype: float64"
       ]
      }
     ],
     "prompt_number": 12
    },
    {
     "cell_type": "code",
     "collapsed": false,
     "input": [],
     "language": "python",
     "metadata": {},
     "outputs": []
    }
   ],
   "metadata": {}
  }
 ]
}